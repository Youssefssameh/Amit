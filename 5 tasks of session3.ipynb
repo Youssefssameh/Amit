{
  "nbformat": 4,
  "nbformat_minor": 0,
  "metadata": {
    "colab": {
      "provenance": []
    },
    "kernelspec": {
      "name": "python3",
      "display_name": "Python 3"
    },
    "language_info": {
      "name": "python"
    }
  },
  "cells": [
    {
      "cell_type": "markdown",
      "source": [
        "# rectangle calculator\n",
        "\n",
        "1. calculate perimeter\n",
        "2. calculate area\n",
        "3. rectangle_information : print(length,width,area,rectangle)"
      ],
      "metadata": {
        "id": "0re4rjj6sLEV"
      }
    },
    {
      "cell_type": "code",
      "source": [
        "def area(x,y):\n",
        "  area=x*y\n",
        "  print(f\"area of rectangle = {area}\\n\")\n",
        "def perimeter(x,y):\n",
        "  perimeter=2*x+2*y\n",
        "  print(f\"perimeter of rectangle = {perimeter}\\n\")\n",
        "\n",
        "\n",
        "while True:\n",
        "  print(\"****************Rectangle Area Calculator*******************\")\n",
        "  print(\"what to calculate?\")\n",
        "  op =int(input(\"1.Area\\n2.perimeter\\n3.Area and perimeter\\n4.exit calculator\\n\"))\n",
        "  if op==1:\n",
        "    length=float(input(\"enter length\\n\"))\n",
        "    width=float(input(\"enter width\\n\"))\n",
        "    print(area(length,width))\n",
        "  elif op==2:\n",
        "    length=float(input(\"enter length\\n\"))\n",
        "    width=float(input(\"enter width\\n\"))\n",
        "    print(perimeter(length,width))\n",
        "  elif op==3:\n",
        "    length=float(input(\"enter length\\n\"))\n",
        "    width=float(input(\"enter width\\n\"))\n",
        "    print(area(length,width))\n",
        "    print(perimeter(length,width))\n",
        "  elif op==4:\n",
        "    break\n",
        "  else:\n",
        "    print(\"incorrect choice please choose again\")"
      ],
      "metadata": {
        "id": "AV8MuIxt-mnq",
        "outputId": "8a1e4145-75ba-441e-921e-070fe149d648",
        "colab": {
          "base_uri": "https://localhost:8080/"
        }
      },
      "execution_count": 14,
      "outputs": [
        {
          "name": "stdout",
          "output_type": "stream",
          "text": [
            "****************Rectangle Area Calculator*******************\n",
            "what to calculate?\n",
            "1.Area\n",
            "2.perimeter\n",
            "3.Area and perimeter\n",
            "4.exit calculator\n",
            "3\n",
            "enter length\n",
            "12\n",
            "enter width\n",
            "32\n",
            "area of rectangle = 384.0\n",
            "\n",
            "None\n",
            "perimeter of rectangle = 88.0\n",
            "\n",
            "None\n",
            "****************Rectangle Area Calculator*******************\n",
            "what to calculate?\n",
            "1.Area\n",
            "2.perimeter\n",
            "3.Area and perimeter\n",
            "4.exit calculator\n",
            "4\n"
          ]
        }
      ]
    },
    {
      "cell_type": "markdown",
      "source": [
        "# count number of vowels from input string"
      ],
      "metadata": {
        "id": "Tr11bcoGsNRL"
      }
    },
    {
      "cell_type": "code",
      "source": [
        "#vowels are (a,e,i,o,u)\n",
        "def count_vowels(input_string):\n",
        "    vowels = \"aeiouAEIOU\"\n",
        "    count = 0\n",
        "    for char in input_string:\n",
        "        if char in vowels:\n",
        "            count += 1\n",
        "    return count\n",
        "\n",
        "word=input(\"type a word :\\n\")\n",
        "n=count_vowels(word)\n",
        "print(f\"number of vowels = {n}\")"
      ],
      "metadata": {
        "id": "gQJi_BTsc7Dy",
        "outputId": "a1c9b914-8c3a-4a6f-c512-5b47134cb54c",
        "colab": {
          "base_uri": "https://localhost:8080/"
        }
      },
      "execution_count": 25,
      "outputs": [
        {
          "output_type": "stream",
          "name": "stdout",
          "text": [
            "type a word :\n",
            "hi my name is youssef\n",
            "number of vowels = 7\n"
          ]
        }
      ]
    },
    {
      "cell_type": "markdown",
      "source": [
        "# print maximum and minimum number from user input"
      ],
      "metadata": {
        "id": "H2QoCYoAsaCd"
      }
    },
    {
      "cell_type": "code",
      "source": [
        "def find_max_min():\n",
        "    max_num = 0\n",
        "    min_num = 0\n",
        "    while True:\n",
        "        user_input = input(\"Enter a number (or 'q' to quit): \")\n",
        "        if user_input.lower() == 'q':\n",
        "            break\n",
        "        try:\n",
        "            num = float(user_input)\n",
        "            if max_num == 0 or num > max_num:\n",
        "                max_num = num\n",
        "            if min_num == 0 or num < min_num:\n",
        "                min_num = num\n",
        "        except ValueError:\n",
        "            print(\"Invalid input. Please enter a valid number.\")\n",
        "    return max_num, min_num\n",
        "\n",
        "\n",
        "max_value, min_value = find_max_min()6\n",
        "if max_value != 0 and min_value != 0:\n",
        "    print(f\"The maximum value entered is: {max_value}\")\n",
        "    print(f\"The minimum value entered is: {min_value}\")\n",
        "else:\n",
        "    print(\"No valid numbers were entered.\")"
      ],
      "metadata": {
        "id": "unCSoDSWsyHw",
        "outputId": "f2082c56-1870-46f3-f890-e123661950a8",
        "colab": {
          "base_uri": "https://localhost:8080/"
        }
      },
      "execution_count": 32,
      "outputs": [
        {
          "output_type": "stream",
          "name": "stdout",
          "text": [
            "Enter a number (or 'q' to quit): 234\n",
            "Enter a number (or 'q' to quit): 567\n",
            "Enter a number (or 'q' to quit): 789\n",
            "Enter a number (or 'q' to quit): 2324\n",
            "Enter a number (or 'q' to quit): 543\n",
            "Enter a number (or 'q' to quit): 5576\n",
            "Enter a number (or 'q' to quit): 4324\n",
            "Enter a number (or 'q' to quit): 567\n",
            "Enter a number (or 'q' to quit): 7678\n",
            "Enter a number (or 'q' to quit): 9987\n",
            "Enter a number (or 'q' to quit): 4324\n",
            "Enter a number (or 'q' to quit): q\n",
            "The maximum value entered is: 9987.0\n",
            "The minimum value entered is: 234.0\n"
          ]
        }
      ]
    },
    {
      "cell_type": "markdown",
      "source": [
        "# write program remove all duplicated values from list"
      ],
      "metadata": {
        "id": "EZ3DtGY-sq9W"
      }
    },
    {
      "cell_type": "code",
      "source": [
        "def remove_duplicates(input_list):\n",
        "    unique_list = []\n",
        "    for item in input_list:\n",
        "        if item not in unique_list:\n",
        "            unique_list.append(item)\n",
        "    return unique_list\n",
        "def fill_list():\n",
        "    user_list = []\n",
        "    while True:\n",
        "        user_input = input(\"Enter a value (or 'q' to quit): \")\n",
        "\n",
        "        if user_input.lower() == 'q':\n",
        "            break\n",
        "\n",
        "        user_list.append(user_input)\n",
        "\n",
        "    return user_list\n",
        "\n",
        "input_list=fill_list()\n",
        "new_list=remove_duplicates(input_list)\n",
        "print(f\"\\nlist: {input_list}\\n\")\n",
        "print(f\"list after removing duplicates: {new_list} \")\n"
      ],
      "metadata": {
        "id": "kdVWh9RlsJcU",
        "outputId": "4f84bbdc-72ac-44ca-cd8f-af36ef898184",
        "colab": {
          "base_uri": "https://localhost:8080/"
        }
      },
      "execution_count": 35,
      "outputs": [
        {
          "output_type": "stream",
          "name": "stdout",
          "text": [
            "Enter a value (or 'q' to quit): 12\n",
            "Enter a value (or 'q' to quit): 12\n",
            "Enter a value (or 'q' to quit): 12\n",
            "Enter a value (or 'q' to quit): 12\n",
            "Enter a value (or 'q' to quit): 13\n",
            "Enter a value (or 'q' to quit): 13\n",
            "Enter a value (or 'q' to quit): 13\n",
            "Enter a value (or 'q' to quit): 13\n",
            "Enter a value (or 'q' to quit): 13\n",
            "Enter a value (or 'q' to quit): 14\n",
            "Enter a value (or 'q' to quit): 13\n",
            "Enter a value (or 'q' to quit): 12\n",
            "Enter a value (or 'q' to quit): 15\n",
            "Enter a value (or 'q' to quit): q\n",
            "\n",
            "list: ['12', '12', '12', '12', '13', '13', '13', '13', '13', '14', '13', '12', '15']\n",
            "\n",
            "list after removing duplicates: ['12', '13', '14', '15'] \n"
          ]
        }
      ]
    },
    {
      "cell_type": "markdown",
      "source": [
        "# create comprehensive list that sum even numbers only from input numbes"
      ],
      "metadata": {
        "id": "TqgXuPrusyv6"
      }
    },
    {
      "cell_type": "code",
      "source": [
        "def sum_even(input_numbers):\n",
        "    even_sum = 0\n",
        "    for num in input_numbers:\n",
        "        if num % 2 == 0:\n",
        "            even_sum += num\n",
        "    return even_sum\n",
        "\n",
        "\n",
        "comprehension= input(\"Enter a list of numbers separated by spaces: \")\n",
        "numbers = [int(x) for x in comprehension.split()]\n",
        "\n",
        "result = sum_even(numbers)\n",
        "print(f\"The sum of even numbers in the list is: {result}\")\n"
      ],
      "metadata": {
        "id": "6jvaRbaDtARV",
        "outputId": "143bae1e-f138-4d5c-aecc-6e2ebfa5ddbb",
        "colab": {
          "base_uri": "https://localhost:8080/"
        }
      },
      "execution_count": 42,
      "outputs": [
        {
          "output_type": "stream",
          "name": "stdout",
          "text": [
            "Enter a list of numbers separated by spaces: 1 2 3 4 500 6 7 8 9\n",
            "The sum of even numbers in the list is: 520\n"
          ]
        }
      ]
    },
    {
      "cell_type": "code",
      "source": [],
      "metadata": {
        "id": "-DMU4KnQzutF"
      },
      "execution_count": null,
      "outputs": []
    }
  ]
}